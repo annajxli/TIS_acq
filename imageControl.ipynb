{
 "cells": [
  {
   "cell_type": "markdown",
   "metadata": {},
   "source": [
    "## Notebook for camera control\n",
    "- AL 190928: For pupil tracking i/o. Uses (poorly documented) code from TIS on DMK 72BUC02."
   ]
  },
  {
   "cell_type": "markdown",
   "metadata": {},
   "source": [
    "----\n",
    "#### Start the camera and set video format, framerate.\n",
    "\n",
    "setCameraDefaults sets our defaults:\n",
    "- DMK 72BUC02 7610448\n",
    "- 7800 (640x480)\n",
    "- 15.0 fps\n",
    "\n",
    "To use a different camera or settings, open the device selection dialog.\n",
    "\n",
    "Note that the camera parameters may be different, so setting them may throw errors."
   ]
  },
  {
   "cell_type": "code",
   "execution_count": null,
   "metadata": {
    "collapsed": false
   },
   "outputs": [],
   "source": [
    "import os, sys\n",
    "import tisgrabber as ic\n",
    "import ICtools\n",
    "\n",
    "# init camera object\n",
    "cam = ic.TIS_CAM()\n",
    "\n",
    "ICtools.setCameraDefaults(cam)\n",
    "\n",
    "# or do this: open device selection GUI\n",
    "# cam.ShowDeviceSelectionDialog()"
   ]
  },
  {
   "cell_type": "markdown",
   "metadata": {},
   "source": [
    "----\n",
    "#### Set video properties\n",
    "\n",
    "For items like gain/exposure, it may be prudent to figure out the values in IC Capture first, then enter them here."
   ]
  },
  {
   "cell_type": "code",
   "execution_count": null,
   "metadata": {
    "collapsed": false
   },
   "outputs": [],
   "source": [
    "params = {\n",
    "    'brightness': 0, # default 0\n",
    "    'contrast': 0, # default 0\n",
    "    'gain': 'auto', # int or 'auto', case sensitive\n",
    "    'exposure': 1/14, # greater than frame time: usually 1/15s\n",
    "    'exposureAutoRef': 128, # default 128\n",
    "    'exposureAutoMax': 1/15, # no 'auto' here\n",
    "    'highlightReduction': False, # bool\n",
    "    'sharpness': 0, # default 0\n",
    "    'gamma': 100, # default 100\n",
    "    'denoise': 0, # default 0\n",
    "    'autoCenter': False, # bool, keep false if setting manually\n",
    "    'xOffset': 150, # adjust to IC Capture\n",
    "    'yOffset': 150, # adjust to IC Capture\n",
    "    'trigger': False, # bool, we don't have one\n",
    "    'strobe': True, # bool, default True\n",
    "    'strobePolarity': True, # bool, default False\n",
    "    'toneMapping': False # bool\n",
    "         }\n",
    "\n",
    "ICtools.setCameraParams(cam, params)"
   ]
  },
  {
   "cell_type": "markdown",
   "metadata": {},
   "source": [
    "----\n",
    "#### Acquisition here\n",
    "\n",
    "Notes:\n",
    "- Each snapped image is three frames, so averaging those down.\n",
    "- This way, 1 second of 15 fps 640x480 is about 8 mb.\n",
    "- The strobe \"works\", but seems to always send one extra pulse. Not clear why."
   ]
  },
  {
   "cell_type": "code",
   "execution_count": null,
   "metadata": {
    "collapsed": false
   },
   "outputs": [],
   "source": [
    "# the preceding r is needed for windows\n",
    "animal = 'iTest'\n",
    "outdir = r'C:\\Users\\histedlabuser\\Videos\\pupilTracking'\n",
    "\n",
    "stack = ICtools.acquireStack(cam, acqLengthS=5, doStrobe=True,\n",
    "                             downscaleTuple=(1,1,1), animal=animal,\n",
    "                             outdir=outdir)"
   ]
  },
  {
   "cell_type": "markdown",
   "metadata": {},
   "source": [
    "#### Start/stop the live feed\n",
    "If you want to look at the feed without acquiring."
   ]
  },
  {
   "cell_type": "code",
   "execution_count": null,
   "metadata": {
    "collapsed": false
   },
   "outputs": [],
   "source": [
    "# window stops responding if you click on it?\n",
    "cam.StartLive(1) # 1 makes a window pop up, showing you the image"
   ]
  },
  {
   "cell_type": "code",
   "execution_count": null,
   "metadata": {
    "collapsed": false
   },
   "outputs": [],
   "source": [
    "cam.StopLive()"
   ]
  },
  {
   "cell_type": "markdown",
   "metadata": {},
   "source": [
    ":)"
   ]
  }
 ],
 "metadata": {
  "jupytext": {
   "formats": "ipynb,md"
  },
  "kernelspec": {
   "display_name": "Python 3",
   "language": "python",
   "name": "python3"
  },
  "language_info": {
   "codemirror_mode": {
    "name": "ipython",
    "version": 3
   },
   "file_extension": ".py",
   "mimetype": "text/x-python",
   "name": "python",
   "nbconvert_exporter": "python",
   "pygments_lexer": "ipython3",
   "version": "3.6.7"
  }
 },
 "nbformat": 4,
 "nbformat_minor": 4
}
