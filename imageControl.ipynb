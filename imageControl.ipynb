{
 "cells": [
  {
   "cell_type": "markdown",
   "metadata": {},
   "source": [
    "## Notebook for camera control\n",
    "- AL 190928: For pupil tracking i/o. Uses (poorly documented) code from TIS on DMK 72BUC02."
   ]
  },
  {
   "cell_type": "markdown",
   "metadata": {},
   "source": [
    "----\n",
    "#### This cell opens a device selection dialog\n",
    "\n",
    "Set these things:\n",
    "\n",
    "- device name\n",
    "- video format (incl. binning)\n",
    "- framerate\n",
    "\n",
    "Hit \"Ok\""
   ]
  },
  {
   "cell_type": "code",
   "execution_count": null,
   "metadata": {},
   "outputs": [],
   "source": [
    "import os, sys\n",
    "sys.path.append(os.path.abspath(r'C:\\Users\\anna\\Repositories\\TIS_acq\\src'))\n",
    "import tisgrabber as ic\n",
    "import ICtools\n",
    "\n",
    "# init camera object\n",
    "cam = ic.TIS_CAM()\n",
    "\n",
    "# OPTIONAL/eaiser: open device window\n",
    "cam.ShowDeviceSelectionDialog()"
   ]
  },
  {
   "cell_type": "markdown",
   "metadata": {},
   "source": [
    "----\n",
    "#### Set video properties\n",
    "\n",
    "For items like gain/exposure, it may be prudent to figure out the values in IC Capture first, then enter them here."
   ]
  },
  {
   "cell_type": "code",
   "execution_count": null,
   "metadata": {},
   "outputs": [],
   "source": [
    "params = {\n",
    "    'brightness': 0, # default 0\n",
    "    'contrast': 0, # default 0\n",
    "    'gain': 4, # try 4-6, or 'auto', case sensitive\n",
    "    'exposure': 1/14, # greater than 1/15 (smaller denominator)\n",
    "    'exposureAutoRef': 128, # default 128\n",
    "    'exposureAutoMax': 'auto', # having trouble setting this value. use default 'auto'\n",
    "    'highlightReduction': False, # bool\n",
    "    'sharpness': 0, # default 0\n",
    "    'gamma': 100, # default 100\n",
    "    'denoise': 0, # default 0\n",
    "    'autoCenter': False, # bool, keep false\n",
    "    'xOffset': 0, # adjust to IC Capture\n",
    "    'yOffset': 0, # adjust to IC Capture\n",
    "    'trigger': False, # bool, we don't have one\n",
    "    'strobe': True, # bool, default True\n",
    "    'strobePolarity': False, # bool, default False\n",
    "    'toneMapping': False # bool\n",
    "         }\n",
    "\n",
    "ICtools.setCameraParams(cam, params)"
   ]
  },
  {
   "cell_type": "markdown",
   "metadata": {},
   "source": [
    "----\n",
    "#### Acquisition here\n",
    "- NEEDS TESTING: strobe matches up w/ frame count.\n",
    "\n",
    "Notes:\n",
    "- Each snapped image is three frames, so averaging those down.\n",
    "- Images are default float64. I'm changing to int16 for size purposes.\n",
    "    - This way, 1 second of 15 fps 640x480 is about 8 mb."
   ]
  },
  {
   "cell_type": "code",
   "execution_count": null,
   "metadata": {},
   "outputs": [],
   "source": [
    "# the preceding r is needed for windows\n",
    "animal = 'i2227'\n",
    "outdir = r'C:\\Users\\anna\\Videos\\pupilTracking'\n",
    "\n",
    "stack = ICtools.acquireStack(cam, acqLengthS=10, doStrobe=True,\n",
    "                             downscaleTuple=(1,1,1), animal=animal,\n",
    "                             outdir=outdir)"
   ]
  },
  {
   "cell_type": "markdown",
   "metadata": {},
   "source": [
    "#### Start/stop the live feed\n",
    "If you want to look at the feed without acquiring."
   ]
  },
  {
   "cell_type": "code",
   "execution_count": null,
   "metadata": {},
   "outputs": [],
   "source": [
    "cam.StartLive(1) # 1 makes a window pop up, showing you the image"
   ]
  },
  {
   "cell_type": "code",
   "execution_count": null,
   "metadata": {},
   "outputs": [],
   "source": [
    "cam.StopLive()"
   ]
  },
  {
   "cell_type": "markdown",
   "metadata": {},
   "source": [
    ":)"
   ]
  }
 ],
 "metadata": {
  "jupytext": {
   "formats": "ipynb,md"
  },
  "kernelspec": {
   "display_name": "Python 3",
   "language": "python",
   "name": "python3"
  },
  "language_info": {
   "codemirror_mode": {
    "name": "ipython",
    "version": 3
   },
   "file_extension": ".py",
   "mimetype": "text/x-python",
   "name": "python",
   "nbconvert_exporter": "python",
   "pygments_lexer": "ipython3",
   "version": "3.7.3"
  }
 },
 "nbformat": 4,
 "nbformat_minor": 4
}
